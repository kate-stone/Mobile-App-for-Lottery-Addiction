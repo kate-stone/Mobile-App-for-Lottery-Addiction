{
 "cells": [
  {
   "cell_type": "markdown",
   "metadata": {},
   "source": [
    "# Creating a Mobile App for Lottery Addiction\n",
    "\n",
    "For most people playing the lottery is a fun and harmless activity. For some it becomes a habit which eventually leads to addiction. For these people, playing the lottery can lead to spending money they don't have and resorting to criminal activities to repay their debts. \n",
    "\n",
    "To address this, a medical institute that aims to prevent and treat gambling addictions wants to build a dedicated mobile app to help lottery addicts better estimate their chances of winning. Our role in the development will be to create the logical core of the app and calculate probabilities.\n",
    "\n",
    "For the first version of the app, they want us to focus on the 6/49 lottery and build functions that enable users to answer questions like:\n",
    "\n",
    "- What is the probability of winning the big prize with a single ticket?\n",
    "- What is the probability of winning the big prize if we play 40 different tickets (or any other number)?\n",
    "- What is the probability of having at least five (or four, or three, or two) winning numbers on a single ticket?\n",
    "\n",
    "The institute also wants us to consider historical data coming from the national 6/49 lottery game in Canada. The data set has data for 3,665 drawings, dating from 1982 to 2018.\n",
    "\n",
    "# Write Functions to Calculate Probabilities\n",
    "\n",
    "Throughout the project, we'll need to repeatedly calculate probabilities and combinations. As a consequence, we'll start by writing two functions that we'll use often:\n",
    "\n",
    "- A function that calculates factorials; and\n",
    "- A function that calculates combinations."
   ]
  },
  {
   "cell_type": "code",
   "execution_count": 2,
   "metadata": {},
   "outputs": [],
   "source": [
    "# Create Factorial Function\n",
    "def factorial(n):\n",
    "    factorial = 1\n",
    "    for i in range (n,0,-1):\n",
    "        factorial *= i\n",
    "    return factorial\n",
    "\n",
    "# Create Combinations Function\n",
    "def combinations(n,k):\n",
    "    numerator = factorial(n)\n",
    "    denominator = factorial(k)*factorial(n-k)\n",
    "    return numerator/denominator"
   ]
  },
  {
   "cell_type": "markdown",
   "metadata": {},
   "source": [
    "Next we'll create a function that calculates the probability of winning the lottery for a specific set of numbers the user inputs into the app. The function will take in a list of six unique numbers and print the probability of winning in a way that's easy to understand."
   ]
  },
  {
   "cell_type": "code",
   "execution_count": 3,
   "metadata": {},
   "outputs": [
    {
     "name": "stdout",
     "output_type": "stream",
     "text": [
      "Your chance of winning with the numbers [1, 2, 3, 4, 5, 6] is 0.0000072%. In other words you have a 1 in 13,983,816 chance of winning with these numbers.\n"
     ]
    }
   ],
   "source": [
    "# Create Function That Calculates Probability of Winning for Users Set of Numbers\n",
    "def one_ticket_probability(user_numbers):\n",
    "    total_outcomes = combinations(49,6)\n",
    "    probability = (1/total_outcomes)*100\n",
    "    print(\"Your chance of winning with the numbers {0} is {1:.7f}%. In other words you have a 1 in {2:,} chance of winning with these numbers.\".format(user_numbers, probability, int(total_outcomes)))\n",
    "    \n",
    "    # Test Function\n",
    "one_ticket_probability([1,2,3,4,5,6])"
   ]
  },
  {
   "cell_type": "markdown",
   "metadata": {},
   "source": [
    "# Explore the 6/49 Lottery Game Dataset\n",
    "\n",
    "Another component of the app will enable users to compare their ticket against the historical lottery data in Canada and determine whether they would have ever won by now. \n",
    "\n",
    "This data is available on [Kaggle](https://www.kaggle.com/datascienceai/lottery-dataset#649.csv). Lets familiarise ourselves with it."
   ]
  },
  {
   "cell_type": "code",
   "execution_count": 4,
   "metadata": {},
   "outputs": [
    {
     "data": {
      "text/plain": [
       "(3665, 11)"
      ]
     },
     "execution_count": 4,
     "metadata": {},
     "output_type": "execute_result"
    }
   ],
   "source": [
    "import pandas as pd\n",
    "import numpy as np\n",
    "dataset_649 = pd.read_csv(\"/Users/katestone/Desktop/CSV files/649.csv\")\n",
    "dataset_649.shape"
   ]
  },
  {
   "cell_type": "code",
   "execution_count": 5,
   "metadata": {},
   "outputs": [
    {
     "data": {
      "text/html": [
       "<div>\n",
       "<style scoped>\n",
       "    .dataframe tbody tr th:only-of-type {\n",
       "        vertical-align: middle;\n",
       "    }\n",
       "\n",
       "    .dataframe tbody tr th {\n",
       "        vertical-align: top;\n",
       "    }\n",
       "\n",
       "    .dataframe thead th {\n",
       "        text-align: right;\n",
       "    }\n",
       "</style>\n",
       "<table border=\"1\" class=\"dataframe\">\n",
       "  <thead>\n",
       "    <tr style=\"text-align: right;\">\n",
       "      <th></th>\n",
       "      <th>PRODUCT</th>\n",
       "      <th>DRAW NUMBER</th>\n",
       "      <th>SEQUENCE NUMBER</th>\n",
       "      <th>DRAW DATE</th>\n",
       "      <th>NUMBER DRAWN 1</th>\n",
       "      <th>NUMBER DRAWN 2</th>\n",
       "      <th>NUMBER DRAWN 3</th>\n",
       "      <th>NUMBER DRAWN 4</th>\n",
       "      <th>NUMBER DRAWN 5</th>\n",
       "      <th>NUMBER DRAWN 6</th>\n",
       "      <th>BONUS NUMBER</th>\n",
       "    </tr>\n",
       "  </thead>\n",
       "  <tbody>\n",
       "    <tr>\n",
       "      <td>0</td>\n",
       "      <td>649</td>\n",
       "      <td>1</td>\n",
       "      <td>0</td>\n",
       "      <td>6/12/1982</td>\n",
       "      <td>3</td>\n",
       "      <td>11</td>\n",
       "      <td>12</td>\n",
       "      <td>14</td>\n",
       "      <td>41</td>\n",
       "      <td>43</td>\n",
       "      <td>13</td>\n",
       "    </tr>\n",
       "    <tr>\n",
       "      <td>1</td>\n",
       "      <td>649</td>\n",
       "      <td>2</td>\n",
       "      <td>0</td>\n",
       "      <td>6/19/1982</td>\n",
       "      <td>8</td>\n",
       "      <td>33</td>\n",
       "      <td>36</td>\n",
       "      <td>37</td>\n",
       "      <td>39</td>\n",
       "      <td>41</td>\n",
       "      <td>9</td>\n",
       "    </tr>\n",
       "    <tr>\n",
       "      <td>2</td>\n",
       "      <td>649</td>\n",
       "      <td>3</td>\n",
       "      <td>0</td>\n",
       "      <td>6/26/1982</td>\n",
       "      <td>1</td>\n",
       "      <td>6</td>\n",
       "      <td>23</td>\n",
       "      <td>24</td>\n",
       "      <td>27</td>\n",
       "      <td>39</td>\n",
       "      <td>34</td>\n",
       "    </tr>\n",
       "  </tbody>\n",
       "</table>\n",
       "</div>"
      ],
      "text/plain": [
       "   PRODUCT  DRAW NUMBER  SEQUENCE NUMBER  DRAW DATE  NUMBER DRAWN 1  \\\n",
       "0      649            1                0  6/12/1982               3   \n",
       "1      649            2                0  6/19/1982               8   \n",
       "2      649            3                0  6/26/1982               1   \n",
       "\n",
       "   NUMBER DRAWN 2  NUMBER DRAWN 3  NUMBER DRAWN 4  NUMBER DRAWN 5  \\\n",
       "0              11              12              14              41   \n",
       "1              33              36              37              39   \n",
       "2               6              23              24              27   \n",
       "\n",
       "   NUMBER DRAWN 6  BONUS NUMBER  \n",
       "0              43            13  \n",
       "1              41             9  \n",
       "2              39            34  "
      ]
     },
     "execution_count": 5,
     "metadata": {},
     "output_type": "execute_result"
    }
   ],
   "source": [
    "dataset_649.head(3)"
   ]
  },
  {
   "cell_type": "code",
   "execution_count": 6,
   "metadata": {},
   "outputs": [
    {
     "data": {
      "text/html": [
       "<div>\n",
       "<style scoped>\n",
       "    .dataframe tbody tr th:only-of-type {\n",
       "        vertical-align: middle;\n",
       "    }\n",
       "\n",
       "    .dataframe tbody tr th {\n",
       "        vertical-align: top;\n",
       "    }\n",
       "\n",
       "    .dataframe thead th {\n",
       "        text-align: right;\n",
       "    }\n",
       "</style>\n",
       "<table border=\"1\" class=\"dataframe\">\n",
       "  <thead>\n",
       "    <tr style=\"text-align: right;\">\n",
       "      <th></th>\n",
       "      <th>PRODUCT</th>\n",
       "      <th>DRAW NUMBER</th>\n",
       "      <th>SEQUENCE NUMBER</th>\n",
       "      <th>DRAW DATE</th>\n",
       "      <th>NUMBER DRAWN 1</th>\n",
       "      <th>NUMBER DRAWN 2</th>\n",
       "      <th>NUMBER DRAWN 3</th>\n",
       "      <th>NUMBER DRAWN 4</th>\n",
       "      <th>NUMBER DRAWN 5</th>\n",
       "      <th>NUMBER DRAWN 6</th>\n",
       "      <th>BONUS NUMBER</th>\n",
       "    </tr>\n",
       "  </thead>\n",
       "  <tbody>\n",
       "    <tr>\n",
       "      <td>3662</td>\n",
       "      <td>649</td>\n",
       "      <td>3589</td>\n",
       "      <td>0</td>\n",
       "      <td>6/13/2018</td>\n",
       "      <td>6</td>\n",
       "      <td>22</td>\n",
       "      <td>24</td>\n",
       "      <td>31</td>\n",
       "      <td>32</td>\n",
       "      <td>34</td>\n",
       "      <td>16</td>\n",
       "    </tr>\n",
       "    <tr>\n",
       "      <td>3663</td>\n",
       "      <td>649</td>\n",
       "      <td>3590</td>\n",
       "      <td>0</td>\n",
       "      <td>6/16/2018</td>\n",
       "      <td>2</td>\n",
       "      <td>15</td>\n",
       "      <td>21</td>\n",
       "      <td>31</td>\n",
       "      <td>38</td>\n",
       "      <td>49</td>\n",
       "      <td>8</td>\n",
       "    </tr>\n",
       "    <tr>\n",
       "      <td>3664</td>\n",
       "      <td>649</td>\n",
       "      <td>3591</td>\n",
       "      <td>0</td>\n",
       "      <td>6/20/2018</td>\n",
       "      <td>14</td>\n",
       "      <td>24</td>\n",
       "      <td>31</td>\n",
       "      <td>35</td>\n",
       "      <td>37</td>\n",
       "      <td>48</td>\n",
       "      <td>17</td>\n",
       "    </tr>\n",
       "  </tbody>\n",
       "</table>\n",
       "</div>"
      ],
      "text/plain": [
       "      PRODUCT  DRAW NUMBER  SEQUENCE NUMBER  DRAW DATE  NUMBER DRAWN 1  \\\n",
       "3662      649         3589                0  6/13/2018               6   \n",
       "3663      649         3590                0  6/16/2018               2   \n",
       "3664      649         3591                0  6/20/2018              14   \n",
       "\n",
       "      NUMBER DRAWN 2  NUMBER DRAWN 3  NUMBER DRAWN 4  NUMBER DRAWN 5  \\\n",
       "3662              22              24              31              32   \n",
       "3663              15              21              31              38   \n",
       "3664              24              31              35              37   \n",
       "\n",
       "      NUMBER DRAWN 6  BONUS NUMBER  \n",
       "3662              34            16  \n",
       "3663              49             8  \n",
       "3664              48            17  "
      ]
     },
     "execution_count": 6,
     "metadata": {},
     "output_type": "execute_result"
    }
   ],
   "source": [
    "dataset_649.tail(3)"
   ]
  },
  {
   "cell_type": "markdown",
   "metadata": {},
   "source": [
    "# Write a Function that Compares User's Numbers to Dataset\n",
    "\n",
    "In order to enable users to compare there numbers with historical lottery data in Canada we'll need to write a function. The function will take the user's six unique numbers between 1 and 49 as input and return the number of times the combination selected occurred in the Canada data set. It will also return the probability of winning the big prize in the next drawing with that combination."
   ]
  },
  {
   "cell_type": "code",
   "execution_count": 7,
   "metadata": {},
   "outputs": [
    {
     "data": {
      "text/plain": [
       "{3, 11, 12, 14, 41, 43}"
      ]
     },
     "execution_count": 7,
     "metadata": {},
     "output_type": "execute_result"
    }
   ],
   "source": [
    "# Write Function that Extracts All the Winning Six Numbers from the Historical Data Set as Python Sets\n",
    "def extract_numbers(row_number):\n",
    "    number_set = set()\n",
    "    for i in range(4,10):\n",
    "        number_set.add(dataset_649.iloc[row_number][i])\n",
    "    return number_set\n",
    "\n",
    "# Test Function\n",
    "extract_numbers(0)"
   ]
  },
  {
   "cell_type": "code",
   "execution_count": 8,
   "metadata": {},
   "outputs": [],
   "source": [
    "# Extract All Winning Numbers\n",
    "winning_numbers = []\n",
    "for i in range(3665):\n",
    "    winning_number = extract_numbers(i)\n",
    "    winning_numbers.append(winning_number)\n",
    "\n",
    "dataset_649[\"Winning_Numbers\"] = winning_numbers"
   ]
  },
  {
   "cell_type": "code",
   "execution_count": 9,
   "metadata": {},
   "outputs": [
    {
     "name": "stdout",
     "output_type": "stream",
     "text": [
      "This combination of numbers won 1 times in the past. Your chance of winning with the numbers [6, 24, 22, 31, 32, 34] is 0.0000072%. In other words you have a 1 in 13,983,816 chance of winning with these numbers.\n"
     ]
    }
   ],
   "source": [
    "# Create Function to Check Historical Occurence\n",
    "def check_historical_occurence(user_numbers, series):\n",
    "    user_set = set(user_numbers)\n",
    "    number_matches = sum(series == user_set)\n",
    "    total_outcomes = combinations(49,6)\n",
    "    probability = (1/total_outcomes)*100\n",
    "    print(\"This combination of numbers won {0} times in the past. Your chance of winning with the numbers {1} is {2:.7f}%. In other words you have a 1 in {3:,} chance of winning with these numbers.\".format(int(number_matches),user_numbers, probability, int(total_outcomes)))\n",
    "    \n",
    "# Test Function\n",
    "check_historical_occurence([6, 24, 22, 31, 32, 34], dataset_649[\"Winning_Numbers\"])"
   ]
  },
  {
   "cell_type": "markdown",
   "metadata": {},
   "source": [
    "# Calculate Probability of Winning with Multiple Tickets\n",
    "\n",
    "So far we've created functions which calculate the probability of winning the lottery with a single ticket. While this is a good start, lottery addicts actually tend to play more than a one ticket on a single drawing, believing that this might increase their chances of winning. Lets write a function that will allow users to calculate the chances of winning for any number of different tickets.\n",
    "\n",
    "The function will operate as follows:\n",
    "\n",
    "- The user will input the number of different tickets they want to play (without inputting the specific combinations they intend to play).\n",
    "- Our function will see an integer between 1 and 13,983,816 (the maximum number of different tickets).\n",
    "- The function will print information about the probability of winning the big prize depending on the number of different tickets played."
   ]
  },
  {
   "cell_type": "code",
   "execution_count": 10,
   "metadata": {},
   "outputs": [],
   "source": [
    "# Write Multi Ticket Probability Function\n",
    "def multi_ticket_probability(number_of_tickets):\n",
    "    total_outcomes = combinations(49,6)\n",
    "    probability = (number_of_tickets/total_outcomes)*100\n",
    "    if number_of_tickets == 1:\n",
    "        print('''Your chance of winning with one ticket is {0:.7f}%. In other words you have a 1 in {1:,} chance of winning with these numbers.'''.format(probability, int(total_outcomes)))\n",
    "    else:\n",
    "        combinations_simplified = round(total_outcomes/number_of_tickets)\n",
    "        print('''Your chance of winning with {0} tickets is {1:.7f}%. In other words you have a 1 in {2:,} chance of winning with these numbers.'''.format(number_of_tickets, probability, int(combinations_simplified)))"
   ]
  },
  {
   "cell_type": "code",
   "execution_count": 11,
   "metadata": {},
   "outputs": [
    {
     "name": "stdout",
     "output_type": "stream",
     "text": [
      "Your chance of winning with one ticket is 0.0000072%. In other words you have a 1 in 13,983,816 chance of winning with these numbers.\n",
      "------------------------\n",
      "Your chance of winning with 10 tickets is 0.0000715%. In other words you have a 1 in 1,398,382 chance of winning with these numbers.\n",
      "------------------------\n",
      "Your chance of winning with 100 tickets is 0.0007151%. In other words you have a 1 in 139,838 chance of winning with these numbers.\n",
      "------------------------\n",
      "Your chance of winning with 10000 tickets is 0.0715112%. In other words you have a 1 in 1,398 chance of winning with these numbers.\n",
      "------------------------\n",
      "Your chance of winning with 1000000 tickets is 7.1511238%. In other words you have a 1 in 14 chance of winning with these numbers.\n",
      "------------------------\n",
      "Your chance of winning with 6991908 tickets is 50.0000000%. In other words you have a 1 in 2 chance of winning with these numbers.\n",
      "------------------------\n",
      "Your chance of winning with 13983816 tickets is 100.0000000%. In other words you have a 1 in 1 chance of winning with these numbers.\n",
      "------------------------\n"
     ]
    }
   ],
   "source": [
    "test_numbers = [1, 10, 100, 10000, 1000000, 6991908, 13983816]\n",
    "\n",
    "for test_number in test_numbers:\n",
    "    multi_ticket_probability(test_number)\n",
    "    print('------------------------')"
   ]
  },
  {
   "cell_type": "markdown",
   "metadata": {},
   "source": [
    "# Calculate Probability of Winning for Two, Three, Four, or Five Winning Numbers\n",
    "\n",
    "In most 6/49 lotteries there are smaller prizes if a player's ticket match two, three, four, or five of the six numbers drawn. As a consequence, the users might be interested in knowing the probability of having two, three, four, or five winning numbers.\n",
    "\n",
    "Lets create a function that operates as follows:\n",
    "\n",
    "- Takes integer x (between 2 and 5) representing number of winning numbers as input.\n",
    "- Returns user's probability of having x number of winning numbers in their set of 6 numbers. \n",
    "\n",
    "The function will calculate the probability that a player's ticket matches exactly the given number of winning numbers. If the player wants to find out the probability of having five winning numbers, the function will return the probability of having five winning numbers exactly (no more and no less). The function will not return the probability of having at least five winning numbers."
   ]
  },
  {
   "cell_type": "code",
   "execution_count": 12,
   "metadata": {},
   "outputs": [],
   "source": [
    "# Write Function Described Above\n",
    "def probability_less_6(x):\n",
    "    winning_combinations = combinations(6,x)\n",
    "    remaining_combinations = combinations(43, (6 - x))\n",
    "    sucessful_outcomes = winning_combinations*remaining_combinations\n",
    "    total_outcomes = combinations(49,6)\n",
    "    probability = sucessful_outcomes/total_outcomes\n",
    "    percentage = probability*100\n",
    "    combinations_simplified = round(total_outcomes/sucessful_outcomes)\n",
    "    print('''Your chance of having {0} winning numbers is {1:.7f}%. In other words, you have a one in {2} chance of having {0} winning numbers in your set of six numbers.'''.format(x, percentage, combinations_simplified))"
   ]
  },
  {
   "cell_type": "code",
   "execution_count": 13,
   "metadata": {},
   "outputs": [
    {
     "name": "stdout",
     "output_type": "stream",
     "text": [
      "Your chance of having 2 winning numbers is 13.2378029%. In other words, you have a one in 8 chance of having 2 winning numbers in your set of six numbers.\n",
      "--------------------------\n",
      "Your chance of having 3 winning numbers is 1.7650404%. In other words, you have a one in 57 chance of having 3 winning numbers in your set of six numbers.\n",
      "--------------------------\n",
      "Your chance of having 4 winning numbers is 0.0968620%. In other words, you have a one in 1032 chance of having 4 winning numbers in your set of six numbers.\n",
      "--------------------------\n",
      "Your chance of having 5 winning numbers is 0.0018450%. In other words, you have a one in 54201 chance of having 5 winning numbers in your set of six numbers.\n",
      "--------------------------\n"
     ]
    }
   ],
   "source": [
    "# Test Function\n",
    "for test_input in [2, 3, 4, 5]:\n",
    "    probability_less_6(test_input)\n",
    "    print('--------------------------') # output delimiter"
   ]
  },
  {
   "cell_type": "markdown",
   "metadata": {},
   "source": [
    "# Going Forward\n",
    "\n",
    "For the first version of the app, we coded four main functions:\n",
    "\n",
    "- one_ticket_probability() — calculates the probability of winning the big prize with a single ticket\n",
    "- check_historical_occurrence() — checks whether a certain combination has occurred in the Canada lottery data set\n",
    "- multi_ticket_probability() — calculates the probability for any number of of tickets between 1 and 13,983,816\n",
    "- probability_less_6() — calculates the probability of having two, three, four or five winning numbers exactly\n",
    "\n",
    "Possible features for a second version of the app include:\n",
    "\n",
    "- Making the outputs even easier to understand by adding fun analogies (for example, we can find probabilities for strange events and compare with the chances of winning in lottery; for instance, we can output something along the lines \"You are 100 times more likely to be the victim of a shark attack than winning the lottery\")\n",
    "- Combining the one_ticket_probability() and check_historical_occurrence() to output information on probability and historical occurrence at the same time\n",
    "- Create a function similar to probability_less_6() which calculates the probability of having at least two, three, four or five winning numbers. Hint: the number of successful outcomes for having at least four winning numbers is the sum of these three numbers:\n",
    "    - The number of successful outcomes for having four winning numbers exactly\n",
    "    - The number of successful outcomes for having five winning numbers exactly\n",
    "    - The number of successful outcomes for having six winning numbers exactly"
   ]
  }
 ],
 "metadata": {
  "kernelspec": {
   "display_name": "Python 3",
   "language": "python",
   "name": "python3"
  },
  "language_info": {
   "codemirror_mode": {
    "name": "ipython",
    "version": 3
   },
   "file_extension": ".py",
   "mimetype": "text/x-python",
   "name": "python",
   "nbconvert_exporter": "python",
   "pygments_lexer": "ipython3",
   "version": "3.7.4"
  }
 },
 "nbformat": 4,
 "nbformat_minor": 2
}
